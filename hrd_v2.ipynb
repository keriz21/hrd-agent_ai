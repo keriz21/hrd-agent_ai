{
 "cells": [
  {
   "cell_type": "code",
   "execution_count": 2,
   "metadata": {},
   "outputs": [],
   "source": [
    "import fitz\n",
    "from langchain_community.chat_models import ChatOpenAI\n",
    "from langchain.schema import SystemMessage, AIMessage, HumanMessage\n",
    "import time\n",
    "\n",
    "import os\n",
    "from dotenv import load_dotenv, find_dotenv"
   ]
  },
  {
   "cell_type": "code",
   "execution_count": 4,
   "metadata": {},
   "outputs": [],
   "source": [
    "_ = load_dotenv(find_dotenv())\n",
    "os.environ['OPENAI_API_KEY'] = os.getenv('OPENAI_API_KEY')\n",
    "\n",
    "openai = ChatOpenAI(model = \"gpt-4o-mini\")"
   ]
  },
  {
   "cell_type": "code",
   "execution_count": 5,
   "metadata": {},
   "outputs": [],
   "source": [
    "def extract_text_from_pdf(pdf_path):\n",
    "    doc = fitz.open(pdf_path)\n",
    "    text = \"\"\n",
    "    for page in doc:\n",
    "        text += page.get_text()\n",
    "    return text.strip()"
   ]
  },
  {
   "cell_type": "code",
   "execution_count": 6,
   "metadata": {},
   "outputs": [],
   "source": [
    "cv_path = \"public/CV_Reza Ali Nirwansyah (2).pdf\"\n",
    "cv_text = extract_text_from_pdf(cv_path)"
   ]
  },
  {
   "cell_type": "code",
   "execution_count": 7,
   "metadata": {},
   "outputs": [
    {
     "data": {
      "text/plain": [
       "'\\u202dFor : Front-End Developer\\u202c\\n\\u202dREZA ALI NIRWANSYAH\\u202c\\n\\u202dFRONTEND DEVELOPER\\u202c\\n\\u202d082218068401 | rezaalinirwansyah@gmail.com | linkedin.com/in/reza-ali-nirwansyah\\u202c\\n\\u202dSurabaya, Indonesia\\u202c\\n\\u202dA\\u202c\\u202dfinal-year\\u202c\\u202dComputer\\u202c\\u202dEngineering\\u202c\\u202dstudent\\u202c\\u202dat\\u202c\\u202dInstitut\\u202c\\u202dTeknologi\\u202c\\u202dSepuluh\\u202c\\u202dNopember\\u202c\\u202d(ITS),\\u202c\\u202dcurrently\\u202c\\u202dworking\\u202c\\u202don\\u202c\\n\\u202da\\u202c \\u202dthesis\\u202c \\u202dproject\\u202c \\u202dwhile\\u202c \\u202dattending\\u202c \\u202da\\u202c \\u202dFull-Stack\\u202c \\u202dWeb\\u202c \\u202dDeveloper\\u202c \\u202dbootcamp\\u202c \\u202dto\\u202c \\u202ddeepen\\u202c \\u202dweb\\u202c \\u202ddevelopment\\u202c \\u202dskills.\\u202c\\n\\u202dExperienced\\u202c \\u202das\\u202c \\u202da\\u202c \\u202dFront-End\\u202c \\u202dDeveloper\\u202c \\u202dwith\\u202c \\u202da\\u202c \\u202dstrong\\u202c \\u202dfoundation\\u202c \\u202din\\u202c \\u202dHTML,\\u202c \\u202dCSS,\\u202c \\u202dJavaScript,\\u202c \\u202dReact.js,\\u202c \\u202dand\\u202c\\n\\u202dNode.js.\\u202c \\u202dA\\u202c \\u202ddetail-oriented\\u202c \\u202dindividual\\u202c \\u202deager\\u202c \\u202dto\\u202c \\u202dcontribute\\u202c \\u202dto\\u202c \\u202dFront-End\\u202c \\u202dWeb\\u202c \\u202dDevelopment\\u202c \\u202dthrough\\u202c \\u202da\\u202c \\u202dfull-time\\u202c\\n\\u202dopportunity.\\u202c\\n\\u202dProject Experiences\\u202c\\n\\u202dChatbot SDPPI -\\u202c\\u202dKominfo Project\\u202c\\n\\u202dJuly, 2024 - Present\\u202c\\n\\u202dFront-End Developer\\u202c\\n\\u202d●\\u202c\\u202dWorked on the development of a chatbot platform for SDPPI Kominfo as part of a collaboration between ITS\\u202c\\n\\u202dand Kominfo.\\u202c\\n\\u202d●\\u202c\\u202dDesigned and implemented the front-end interface for the chatbot, including features such as chat UI,\\u202c\\n\\u202dsidebar navigation, login and registration pages, and history management.\\u202c\\n\\u202d●\\u202c\\u202dUtilized React.js, Bootstrap, and core web technologies (HTML, CSS, JavaScript) to build responsive and\\u202c\\n\\u202duser-friendly interfaces.\\u202c\\n\\u202d●\\u202c\\u202dCollaborated closely with a multidisciplinary team to ensure seamless integration between the front-end and\\u202c\\n\\u202dback-end functionalities.\\u202c\\n\\u202dOrganization Experiences\\u202c\\n\\u202dHIMPUNAN MAHASISWA TEKNIK KOMPUTER\\u202c\\n\\u202dKetua Divisi Riset dan Profesi\\u202c\\n\\u202dMay 2024 - Des 2024\\u202c\\n\\u202dHIMPUNAN MAHASISWA TEKNIK KOMPUTER\\u202c\\n\\u202dStaff Riset dan Profesi\\u202c\\n\\u202dMay 2023 - Feb 2024\\u202c\\n\\u202dB201 TELEMATHICS LABORATORY\\u202c\\n\\u202dComputer Lab Asistant\\u202c\\n\\u202dApr 2023 - Present\\u202c\\n\\u202dUKM BRIDGE – ITS, Surabaya\\u202c\\n\\u202dStaff PSDM Kaderisasi\\u202c\\n\\u202dJan 2022 - Dec 2022\\u202c\\n\\u202dEducation Level\\u202c\\n\\u202dInstitut Teknologi Sepuluh Nopember\\u202c \\u202d- Surabaya, Indonesia\\u202c\\n\\u202dAug, 2021 - Present\\u202c\\n\\u202dBachelor Degree of Computer Engineering, 3.28/4.00\\u202c\\n\\u202d●\\u202c\\u202dRelevant Course Works: Database Management Systems, Service & Internet Application\\u202c\\n\\u202dCourses, Training and Certifications\\u202c\\n\\u202dCodepolitan.com\\u202c\\u202d- Jakarta, Indonesia\\u202c\\n\\u202dAug, 2024\\u202c\\n\\u202dFull Stack Developer Course\\u202c\\n\\u202d●\\u202c\\u202dRelevant Course works: HTML, CSS, JavaScript, React JS and Node.js\\u202c\\n\\u202dSkills\\u202c\\n\\u202dTechnical skills:\\u202c\\u202dHTML, CSS, JavaScript, Bootstrap,\\u202c\\u202dNode.js, React JS, Python, GIT and Figma\\u202c\\n\\u202dSoft skills:\\u202c\\u202dProblem Solving, Time Management, Orientation\\u202c\\u202dto Detail, Analytical Thinking and Teamwork\\u202c\\n\\u202dLanguages:\\u202c\\u202dIndonesian (Native), English (Beginner/Intermediate/Advanced)\\u202c'"
      ]
     },
     "execution_count": 7,
     "metadata": {},
     "output_type": "execute_result"
    }
   ],
   "source": [
    "cv_text"
   ]
  },
  {
   "cell_type": "code",
   "execution_count": 8,
   "metadata": {},
   "outputs": [],
   "source": [
    "job_position = \"Junior Frontend Engineer\"\n",
    "company_type = \"Perusahaan non-profit\"\n",
    "salary = \"4 juta\""
   ]
  },
  {
   "cell_type": "code",
   "execution_count": 9,
   "metadata": {},
   "outputs": [],
   "source": [
    "initial_prompt = f\"\"\"\n",
    "Anda adalah HRD virtual yang sedang mewawancarai kandidat untuk posisi {job_position} di {company_type}.\n",
    "Posisi ini untuk level junior dengan gaji {salary} per bulan.\n",
    "Berikut adalah CV kandidat:\n",
    "\n",
    "{cv_text}\n",
    "\n",
    "Gunakan informasi dari CV ini untuk menyesuaikan pertanyaan wawancara.\n",
    "Wawancara harus terasa alami dan berfokus pada keterampilan serta pengalaman yang relevan.\n",
    "Anda harus proaktif bertanya kepada kandidat seperti HRD nyata, dan mengarahkan wawancara sampai selesai.\n",
    "Anda juga harus MENENTUKAN kapan wawancara sudah cukup, berdasarkan jawaban kandidat dan kelengkapan informasi.\n",
    "Saat wawancara selesai, akhiri dengan pernyataan penutup secara alami.\n",
    "\n",
    "wawancara dilakukan maksimal 7 pertanyaan. jika lebih dari itu, ada baiknya untuk mulai mengakhiri wawancara.\n",
    "\"\"\""
   ]
  },
  {
   "cell_type": "code",
   "execution_count": 10,
   "metadata": {},
   "outputs": [],
   "source": [
    "conversation_history = [SystemMessage(content=initial_prompt)]"
   ]
  },
  {
   "cell_type": "code",
   "execution_count": 13,
   "metadata": {},
   "outputs": [
    {
     "name": "stdout",
     "output_type": "stream",
     "text": [
      "\n",
      "🤖 HRD: Halo! Selamat datang di wawancara untuk posisi Junior Frontend Engineer di perusahaan kami. Bisa perkenalkan diri Anda?\n",
      "\n",
      "🤖 HRD: Terima kasih, Reza. Senang berkenalan dengan Anda! Mari kita mulai wawancara ini.\n",
      "\n",
      "Dari CV Anda, saya melihat bahwa Anda memiliki pengalaman sebagai Front-End Developer dalam proyek chatbot untuk SDPPI Kominfo. Bisa Anda ceritakan lebih lanjut tentang tantangan yang Anda hadapi dalam proyek tersebut dan bagaimana Anda mengatasinya?\n"
     ]
    }
   ],
   "source": [
    "print(\"\\n🤖 HRD: Halo! Selamat datang di wawancara untuk posisi Junior Frontend Engineer di perusahaan kami. Bisa perkenalkan diri Anda?\")\n",
    "conversation_history.append(AIMessage(content=\"Halo! Selamat datang di wawancara untuk posisi Junior Frontend Engineer di perusahaan kami. Bisa perkenalkan diri Anda?\"))\n",
    "\n",
    "while True:\n",
    "    user_input = input(\"\\n👤 Kandidat: \")\n",
    "\n",
    "    # Simpan jawaban kandidat\n",
    "    conversation_history.append(HumanMessage(content=user_input))\n",
    "    \n",
    "    # Prompt untuk AI mengevaluasi apakah wawancara sudah cukup\n",
    "    evaluation_prompt = \"\"\"\n",
    "    Berdasarkan percakapan sejauh ini dan informasi dari CV, evaluasi apakah wawancara sudah cukup.\n",
    "    Jika sudah cukup, berikan respons wawancara terakhir dan akhiri dengan pernyataan penutup.\n",
    "    Jika belum cukup, lanjutkan dengan pertanyaan lain yang relevan dengan posisi yang dilamar.\n",
    "    Jawaban harus profesional tetapi tetap ramah.\n",
    "    \"\"\"\n",
    "\n",
    "    conversation_history.append(SystemMessage(content=evaluation_prompt))\n",
    "\n",
    "    # Dapatkan respon AI\n",
    "    response = openai.invoke(conversation_history)\n",
    "    conversation_history.append(AIMessage(content=response.content))\n",
    "\n",
    "    print(f\"\\n🤖 HRD: {response.content}\")\n",
    "\n",
    "    # Cek apakah AI sudah mengakhiri wawancara\n",
    "    if \"Terima kasih\" in response.content or \"wawancara selesai\" in response.content.lower():\n",
    "        break\n",
    "\n",
    "    # Delay agar lebih realistis\n",
    "    time.sleep(1)"
   ]
  }
 ],
 "metadata": {
  "kernelspec": {
   "display_name": "Python 3",
   "language": "python",
   "name": "python3"
  },
  "language_info": {
   "codemirror_mode": {
    "name": "ipython",
    "version": 3
   },
   "file_extension": ".py",
   "mimetype": "text/x-python",
   "name": "python",
   "nbconvert_exporter": "python",
   "pygments_lexer": "ipython3",
   "version": "3.12.4"
  }
 },
 "nbformat": 4,
 "nbformat_minor": 2
}
